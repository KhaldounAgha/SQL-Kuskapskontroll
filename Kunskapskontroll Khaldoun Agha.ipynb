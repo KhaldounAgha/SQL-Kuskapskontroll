{
 "cells": [
  {
   "cell_type": "code",
   "execution_count": null,
   "id": "6fe39ec4",
   "metadata": {},
   "outputs": [],
   "source": [
    "!pip install sqlalchemy \n",
    "!pip install pandas\n",
    "!pip install pyodbc\n",
    "!pip install matplotlib"
   ]
  },
  {
   "cell_type": "code",
   "execution_count": null,
   "id": "cf261f87",
   "metadata": {},
   "outputs": [],
   "source": [
    "import pandas as pd\n",
    "import matplotlib.pyplot as plt"
   ]
  },
  {
   "cell_type": "code",
   "execution_count": null,
   "id": "c8ec566f",
   "metadata": {},
   "outputs": [],
   "source": [
    "from sqlalchemy import create_engine "
   ]
  },
  {
   "cell_type": "code",
   "execution_count": null,
   "id": "ed7f7a7a",
   "metadata": {},
   "outputs": [],
   "source": [
    "engine = create_engine(\"mssql+pyodbc://LAPTOP-09HP798D/AdventureWorks2022?trusted_connection=yes&driver=ODBC+Driver+17+For+SQL+Server\")"
   ]
  },
  {
   "cell_type": "code",
   "execution_count": null,
   "id": "9e8ec82e",
   "metadata": {},
   "outputs": [],
   "source": [
    "connection = engine.connect()"
   ]
  },
  {
   "cell_type": "code",
   "execution_count": null,
   "id": "e83bcb73",
   "metadata": {},
   "outputs": [],
   "source": [
    "# -- 00100 -- Totalt antal produkter\n",
    "\n",
    "df=pd.read_sql(sql='''\n",
    "\n",
    "SELECT COUNT(*) AS [Totalt Antal Produkter]\n",
    "FROM [AdventureWorks2022].[Production].[Product];\n",
    "\n",
    "    ''', con=connection)"
   ]
  },
  {
   "cell_type": "code",
   "execution_count": null,
   "id": "804fa234",
   "metadata": {},
   "outputs": [],
   "source": [
    "display(df)"
   ]
  },
  {
   "cell_type": "code",
   "execution_count": null,
   "id": "1528bf24",
   "metadata": {},
   "outputs": [],
   "source": [
    "# -- 00110 -- Totalt Försäljnings Belopp\n",
    "\n",
    "df=pd.read_sql(sql='''\n",
    "\n",
    "SELECT CAST(SUM([TotalDue]) AS INT) AS [Totalt Försäljnings Belopp]\n",
    "FROM [AdventureWorks2022].[Sales].[SalesOrderHeader];\n",
    "\n",
    "    ''', con=connection)"
   ]
  },
  {
   "cell_type": "code",
   "execution_count": null,
   "id": "b4b6a589",
   "metadata": {},
   "outputs": [],
   "source": [
    "display(df)"
   ]
  },
  {
   "cell_type": "code",
   "execution_count": null,
   "id": "173c7c71",
   "metadata": {},
   "outputs": [],
   "source": [
    "# -- 00120 -- Genomsnittligt Ordervärde\n",
    "\n",
    "df=pd.read_sql(sql='''\n",
    "\n",
    "SELECT CAST(AVG([TotalDue]) AS decimal(10,2)) AS [Genomsnittligt Ordervärde]\n",
    "FROM [AdventureWorks2022].[Sales].[SalesOrderHeader];\n",
    "\n",
    "    ''', con=connection)"
   ]
  },
  {
   "cell_type": "code",
   "execution_count": null,
   "id": "4bbe3478",
   "metadata": {},
   "outputs": [],
   "source": [
    "display(df)"
   ]
  },
  {
   "cell_type": "code",
   "execution_count": null,
   "id": "abf18865",
   "metadata": {},
   "outputs": [],
   "source": [
    "# -- 00130 -- Totalt Spenderat Belopp\n",
    "\n",
    "df=pd.read_sql(sql='''\n",
    "\n",
    "SELECT TOP 10 [CustomerID], CAST(SUM([TotalDue]) AS int) AS [Totalt Spenderat Belopp]\n",
    "FROM [AdventureWorks2022].[Sales].[SalesOrderHeader]\n",
    "GROUP BY [CustomerID] ORDER BY [Totalt Spenderat Belopp] DESC;\n",
    "\n",
    "    ''', con=connection)"
   ]
  },
  {
   "cell_type": "code",
   "execution_count": null,
   "id": "b9d03f82",
   "metadata": {},
   "outputs": [],
   "source": [
    "display(df)"
   ]
  },
  {
   "cell_type": "code",
   "execution_count": null,
   "id": "4abbd057",
   "metadata": {},
   "outputs": [],
   "source": [
    "# -- 00140 -- Företagets personal \n",
    "\n",
    "df=pd.read_sql(sql='''\n",
    "\n",
    "SELECT COUNT([JobTitle]), [JobTitle]  \n",
    "FROM [AdventureWorks2022].[humanresources].[employee]\n",
    "GROUP BY [JobTitle]\n",
    "ORDER BY [JobTitle];\n",
    "\n",
    "    ''', con=connection)"
   ]
  },
  {
   "cell_type": "code",
   "execution_count": null,
   "id": "34ff4369",
   "metadata": {},
   "outputs": [],
   "source": [
    "display(df)"
   ]
  },
  {
   "cell_type": "code",
   "execution_count": null,
   "id": "113b0059",
   "metadata": {},
   "outputs": [],
   "source": [
    "# -- 00150 -- Antal och Kategorier av Personer i Företaget\n",
    "\n",
    "df=pd.read_sql(sql='''\n",
    "\n",
    "SELECT COUNT([PersonType]) AS [Antal], \n",
    "\tCASE\n",
    "\t\tWHEN [persontype] = 'SC' THEN 'Store Contact'\n",
    "\t\tWHEN [persontype] = 'IN' THEN 'Individual (retail) customer'\n",
    "\t\tWHEN [persontype] = 'SP' THEN 'Sales person'\n",
    "\t\tWHEN [persontype] = 'EM' THEN 'Employee (non-sales)'\n",
    "\t\tWHEN [persontype] = 'VC' THEN 'Vendor contact'\n",
    "\t\tWHEN [persontype] = 'GC' THEN 'General contact'\n",
    "\tEND AS [Kategori]\n",
    "FROM [AdventureWorks2022].[Person].[Person]\n",
    "GROUP BY [persontype];\n",
    "\n",
    "    ''', con=connection)"
   ]
  },
  {
   "cell_type": "code",
   "execution_count": null,
   "id": "871c76e3",
   "metadata": {},
   "outputs": [],
   "source": [
    "display(df)"
   ]
  },
  {
   "cell_type": "code",
   "execution_count": null,
   "id": "a5c084cf",
   "metadata": {},
   "outputs": [],
   "source": [
    "# -- 00160 -- Avdelningar och antal anställda\n",
    "\n",
    "df=pd.read_sql(sql='''\n",
    "\n",
    "SELECT \n",
    "\tA.[Name] AS [Avdelning], \n",
    "\tCOUNT(*) AS [Antal Anställda]\n",
    "FROM [AdventureWorks2022].[HumanResources].[Department] AS A\n",
    "JOIN [AdventureWorks2022].[HumanResources].[EmployeeDepartmentHistory] AS B \n",
    "ON A.[DepartmentID] = B.[DepartmentID]\n",
    "GROUP BY A.[Name];\n",
    "\n",
    "    ''', con=connection)"
   ]
  },
  {
   "cell_type": "code",
   "execution_count": null,
   "id": "ba6687b2",
   "metadata": {},
   "outputs": [],
   "source": [
    "display(df)"
   ]
  },
  {
   "cell_type": "code",
   "execution_count": null,
   "id": "fcec0bdd",
   "metadata": {},
   "outputs": [],
   "source": [
    "# -- 00170 -- Försäljning per produktkategori\n",
    "\n",
    "df=pd.read_sql(sql='''\n",
    "\n",
    "SELECT \n",
    "\tE.[Name] AS [Produktkategori],\n",
    "\tCAST(SUM(B.[LineTotal]) AS INT) AS [Total delsumma]\n",
    "FROM \n",
    "\t[AdventureWorks2022].[Sales].[SalesOrderDetail] AS B \n",
    "\tLEFT JOIN Production.Product AS C ON B.[ProductID] = C.[ProductID]\n",
    "\tJOIN Production.ProductSubcategory AS D ON C.[ProductSubcategoryID] = D.[ProductSubcategoryID]\n",
    "\tJOIN Production.ProductCategory AS E ON D.[ProductCategoryID] = E.[ProductCategoryID]\n",
    "GROUP BY \n",
    "\tE.[Name];\n",
    "\n",
    "    ''', con=connection)"
   ]
  },
  {
   "cell_type": "code",
   "execution_count": null,
   "id": "5e9b01e7",
   "metadata": {},
   "outputs": [],
   "source": [
    "display(df)"
   ]
  },
  {
   "cell_type": "code",
   "execution_count": null,
   "id": "673f91f9",
   "metadata": {},
   "outputs": [],
   "source": [
    "# -- 00200 -- Totalt antal kunder\n",
    "\n",
    "df=pd.read_sql(sql= '''\n",
    "\n",
    "SELECT \n",
    "\tCOUNT(DISTINCT [CustomerID]) AS [Totalt Antal Kunder]\n",
    "FROM \n",
    "\t[AdventureWorks2022].[Sales].[SalesOrderHeader];\n",
    "\n",
    "    ''', con=connection)"
   ]
  },
  {
   "cell_type": "code",
   "execution_count": null,
   "id": "87dc9b74",
   "metadata": {},
   "outputs": [],
   "source": [
    "display(df)"
   ]
  },
  {
   "cell_type": "code",
   "execution_count": null,
   "id": "8a5af23a",
   "metadata": {},
   "outputs": [],
   "source": [
    "# -- 00300 -- Kundfördelning per Land\n",
    "\n",
    "df=pd.read_sql(sql= '''\n",
    "\n",
    "SELECT \n",
    "\tT.[CountryRegionCode] AS [Land],\n",
    "\tCOUNT(DISTINCT S.[CustomerID]) AS [Antal kunder]\n",
    "FROM \n",
    "\t[Sales].[SalesOrderHeader] AS S\n",
    "    LEFT OUTER JOIN [Sales].[SalesTerritory] AS T\n",
    "    ON S.[TerritoryID] = T.[TerritoryID]\n",
    "GROUP BY \n",
    "    T.[CountryRegionCode]\n",
    "ORDER BY \n",
    "\t[Land];\n",
    "    \n",
    "    ''', con=connection)"
   ]
  },
  {
   "cell_type": "code",
   "execution_count": null,
   "id": "310bf9ed",
   "metadata": {},
   "outputs": [],
   "source": [
    "display(df)"
   ]
  },
  {
   "cell_type": "code",
   "execution_count": null,
   "id": "a6caae91",
   "metadata": {},
   "outputs": [],
   "source": [
    "# -- 00400 -- Totalt antal beställningar \n",
    "\n",
    "df=pd.read_sql(sql= '''\n",
    "\n",
    "SELECT \n",
    "\tCOUNT([SalesOrderID]) AS [Totalt Antal Beställningar]\n",
    "FROM \n",
    "\t[AdventureWorks2022].[Sales].[SalesOrderHeader];\n",
    "        \n",
    "    ''', con=connection)"
   ]
  },
  {
   "cell_type": "code",
   "execution_count": null,
   "id": "43fc2adc",
   "metadata": {},
   "outputs": [],
   "source": [
    "display(df)"
   ]
  },
  {
   "cell_type": "code",
   "execution_count": null,
   "id": "56f76676",
   "metadata": {},
   "outputs": [],
   "source": [
    "# Totalt antal kunder i varje land delat efter år\n",
    "\n",
    "df=pd.read_sql(sql= '''\n",
    "\n",
    "SELECT \n",
    "\tYEAR(S.[OrderDate]) AS [År],\n",
    "\tT.[CountryRegionCode] AS [Landskod],\n",
    "\tCOUNT(DISTINCT [CustomerID]) AS [Antal kunder]\n",
    "FROM \n",
    "\t[Sales].[SalesOrderHeader] AS S\n",
    "    LEFT OUTER JOIN [Sales].[SalesTerritory] AS T\n",
    "    ON S.[TerritoryID] = T.[TerritoryID]\n",
    "GROUP BY \n",
    "    YEAR(S.[OrderDate]), T.[CountryRegionCode]\n",
    "ORDER BY \n",
    "\t[År], [Landskod];\n",
    "    \n",
    "    ''', con=connection)"
   ]
  },
  {
   "cell_type": "code",
   "execution_count": null,
   "id": "85d5accf",
   "metadata": {},
   "outputs": [],
   "source": [
    "display(df)"
   ]
  },
  {
   "cell_type": "code",
   "execution_count": null,
   "id": "becbe87c",
   "metadata": {},
   "outputs": [],
   "source": [
    "# -- 00500 -- Antal beställningar per år\n",
    "\n",
    "df=pd.read_sql(sql= '''\n",
    "\n",
    "SELECT \n",
    "\tYEAR([OrderDate]) AS [År],\n",
    "\tCOUNT([SalesOrderID]) AS [Antal Beställningar]\n",
    "FROM \n",
    "\t[Sales].[SalesOrderHeader]\n",
    "--\t  WHERE YEAR([OrderDate]) IN ('2012', '2013')\n",
    "GROUP BY \n",
    "    YEAR([OrderDate])\n",
    "ORDER BY \n",
    "\tYEAR([OrderDate]);\n",
    "    \n",
    "    ''', con=connection)"
   ]
  },
  {
   "cell_type": "code",
   "execution_count": null,
   "id": "c53f7bfe",
   "metadata": {},
   "outputs": [],
   "source": [
    "display(df)"
   ]
  },
  {
   "cell_type": "code",
   "execution_count": null,
   "id": "178a7c1b",
   "metadata": {},
   "outputs": [],
   "source": [
    "# -- 00600 -- Antal beställningar per kvartal\n",
    "\n",
    "df=pd.read_sql(sql= '''\n",
    "\n",
    "SELECT \n",
    "    YEAR([OrderDate]) AS [År],\n",
    "    DATEPART(QUARTER, [OrderDate]) AS [Kvartal],\n",
    "    COUNT([SalesOrderID]) AS [Antal Beställningar]\n",
    "FROM \n",
    "    [Sales].[SalesOrderHeader]\n",
    "GROUP BY \n",
    "    YEAR([OrderDate]), DATEPART(QUARTER, [OrderDate])\n",
    "ORDER BY \n",
    "    [År], [Kvartal]\n",
    "        \n",
    "    ''', con=connection)"
   ]
  },
  {
   "cell_type": "code",
   "execution_count": null,
   "id": "1a162b79",
   "metadata": {
    "scrolled": true
   },
   "outputs": [],
   "source": [
    "display(df)"
   ]
  },
  {
   "cell_type": "code",
   "execution_count": null,
   "id": "16035e68",
   "metadata": {},
   "outputs": [],
   "source": [
    "# -- 00700 -- Antal beställningar per månad\n",
    "\n",
    "df=pd.read_sql(sql= '''\n",
    "\n",
    "SELECT \n",
    "\tYEAR([OrderDate]) AS [År],\n",
    "\tMONTH([OrderDate]) AS [Månad],\n",
    "\tCOUNT(SalesOrderID) AS [Ordrar]\n",
    "FROM \n",
    "\t[AdventureWorks2022].[Sales].[SalesOrderHeader]\n",
    "GROUP BY \n",
    "\tYEAR([OrderDate]), MONTH([OrderDate])\n",
    "ORDER BY \n",
    "\t[År], [Månad] ASC;\n",
    "        \n",
    "    ''', con=connection)"
   ]
  },
  {
   "cell_type": "code",
   "execution_count": null,
   "id": "b61cde49",
   "metadata": {},
   "outputs": [],
   "source": [
    "display(df)"
   ]
  },
  {
   "cell_type": "code",
   "execution_count": null,
   "id": "f3fce7bf",
   "metadata": {},
   "outputs": [],
   "source": [
    "# -- 00800 -- Antal beställningar per land\n",
    "\n",
    "df=pd.read_sql(sql= '''\n",
    "\n",
    "SELECT \n",
    "\tT.[CountryRegionCode] AS [Land],\n",
    "\tCOUNT(S.[CustomerID]) AS [Antal beställningar]\n",
    "FROM \n",
    "\t[AdventureWorks2022].[Sales].[SalesOrderHeader] AS S\n",
    "    LEFT OUTER JOIN [Sales].[SalesTerritory] AS T\n",
    "    ON S.[TerritoryID] = T.[TerritoryID]\n",
    "GROUP BY \n",
    "    T.[CountryRegionCode]\n",
    "ORDER BY \n",
    "\t[Land];\n",
    "        \n",
    "    ''', con=connection)"
   ]
  },
  {
   "cell_type": "code",
   "execution_count": null,
   "id": "0880534d",
   "metadata": {},
   "outputs": [],
   "source": [
    "display(df)"
   ]
  },
  {
   "cell_type": "code",
   "execution_count": null,
   "id": "f0af6c47",
   "metadata": {},
   "outputs": [],
   "source": [
    "# -- 00900 -- Antal beställningar per land och år\n",
    "\n",
    "df=pd.read_sql(sql= '''\n",
    "\n",
    "SELECT \n",
    "\tYEAR(S.[OrderDate]) AS [År],\n",
    "\tT.[CountryRegionCode] AS [Land],\n",
    "\tCOUNT(S.[CustomerID]) AS [Antal Beställningar]\n",
    "FROM \n",
    "\t[AdventureWorks2022].[Sales].[SalesOrderHeader] AS S\n",
    "    LEFT OUTER JOIN [Sales].[SalesTerritory] AS T\n",
    "    ON S.[TerritoryID] = T.[TerritoryID]\n",
    "GROUP BY \n",
    "    YEAR(S.[OrderDate]), T.[CountryRegionCode]\n",
    "ORDER BY \n",
    "\t[År], [Land];\n",
    "            \n",
    "    ''', con=connection)"
   ]
  },
  {
   "cell_type": "code",
   "execution_count": null,
   "id": "249761bc",
   "metadata": {},
   "outputs": [],
   "source": [
    "display(df)"
   ]
  },
  {
   "cell_type": "code",
   "execution_count": null,
   "id": "3e4ced36",
   "metadata": {},
   "outputs": [],
   "source": [
    "# -- xxxxx -- Plottning av antal beställningar per år (2012 0ch 2013) och land\n",
    "\n",
    "df=pd.read_sql(sql= '''\n",
    "\n",
    "SELECT \n",
    "\tYEAR(S.[OrderDate]) AS [År],\n",
    "\tT.[CountryRegionCode] AS [Land],\n",
    "\tCOUNT(S.[CustomerID]) AS [Antal Beställningar]\n",
    "FROM \n",
    "\t[Sales].[SalesOrderHeader] AS S\n",
    "    LEFT OUTER JOIN [Sales].[SalesTerritory] AS T\n",
    "    ON S.[TerritoryID] = T.[TerritoryID]\n",
    "    WHERE\n",
    "    YEAR(S.[OrderDate]) IN (2012, 2013)\n",
    "GROUP BY \n",
    "    YEAR(S.[OrderDate]), T.[CountryRegionCode]\n",
    "ORDER BY \n",
    "\t[År], [Land];\n",
    "            \n",
    "    ''', con=connection)\n",
    "\n",
    "pivot_df = df.pivot(index='Land', columns='År', values='Antal Beställningar')\n",
    "pivot_df.plot(kind='bar', figsize=(8, 3), rot=0)\n",
    "plt.title('Antal beställningar per år och land')\n",
    "plt.xlabel('Land')\n",
    "plt.ylabel('Antal Beställningar')\n",
    "plt.legend(title='År')\n",
    "plt.show()"
   ]
  },
  {
   "cell_type": "code",
   "execution_count": null,
   "id": "8aaabd43",
   "metadata": {},
   "outputs": [],
   "source": [
    "# -- 01000 -- Fördelning av antal beställningar per kund\n",
    "\n",
    "df=pd.read_sql(sql= '''\n",
    "\n",
    "WITH [CTE_AntalBeställningarPerKund] AS \n",
    "\t(\n",
    "\t\tSELECT \n",
    "\t\t\tCOUNT([SalesOrderID]) AS [AntalBeställningarPerKund]\n",
    "\t\tFROM \n",
    "\t\t\t[AdventureWorks2022].[Sales].[SalesOrderHeader]\n",
    "\t\tGROUP BY \n",
    "\t\t\t[CustomerID]\n",
    "\t)\n",
    "\n",
    "SELECT \n",
    "\t[AntalBeställningarPerKund] AS [Antal beställningar per kund],\n",
    "\tCOUNT([AntalBeställningarPerKund]) AS [Antal kunder]\n",
    "FROM \n",
    "\t[CTE_AntalBeställningarPerKund]\n",
    "GROUP BY\n",
    "\t[AntalBeställningarPerKund]\n",
    "ORDER BY \n",
    "\t[AntalBeställningarPerKund] DESC;\n",
    "\n",
    "    ''', con=connection)"
   ]
  },
  {
   "cell_type": "code",
   "execution_count": null,
   "id": "e981aced",
   "metadata": {},
   "outputs": [],
   "source": [
    "display(df)"
   ]
  },
  {
   "cell_type": "code",
   "execution_count": null,
   "id": "a415c6e9",
   "metadata": {},
   "outputs": [],
   "source": [
    "# -- xxxxx -- Plottning av fördelningen av antal beställningar per kund\n",
    "\n",
    "plt.plot(df['Antal beställningar per kund'], df['Antal kunder'], marker='o')\n",
    "\n",
    "plt.xticks(df['Antal beställningar per kund'])\n",
    "plt.xlabel('Antal beställningar per kund')\n",
    "plt.ylabel('Antal kunder')\n",
    "plt.title('Fördelning av Antal Beställningar Per Kund')\n",
    "\n",
    "plt.grid(True)\n",
    "plt.show()\n"
   ]
  },
  {
   "cell_type": "code",
   "execution_count": null,
   "id": "5d8b919a",
   "metadata": {},
   "outputs": [],
   "source": [
    "# -- 02000 -- Årlig försäljningssammanfattning\n",
    "\n",
    "df = pd.read_sql(sql= \"\"\"\n",
    "\n",
    "WITH [CTE_ÅrTotal] AS \n",
    "    (\n",
    "    SELECT \n",
    "        YEAR([OrderDate]) AS [OrderDate], \n",
    "        COUNT([SalesOrderID]) AS [TotaltAntalBeställningar],\n",
    "        SUM([SubTotal]) AS [DelSumma],\n",
    "        SUM([TaxAmt]) AS [Skatt],\n",
    "        SUM([Freight]) AS [Frakt],\n",
    "        SUM([TotalDue]) AS [TotaltBelopp]\n",
    "    FROM \n",
    "        [AdventureWorks2022].[Sales].[SalesOrderHeader]\n",
    "    GROUP BY \n",
    "        YEAR([OrderDate])\n",
    "    )\n",
    "\n",
    "SELECT \n",
    "    [OrderDate] AS [År], \n",
    "    [TotaltAntalBeställningar] AS [Antal Beställningar],\n",
    "    CAST(ROUND([DelSumma], 0) AS int) AS [Del Summa], \n",
    "    [Procentandel DelSumma] = CAST(ROUND([DelSumma] * 100.0 / SUM([TotaltBelopp]) OVER (PARTITION BY [OrderDate]), 2) AS decimal(5, 2)),\n",
    "    CAST(ROUND([Skatt], 0) AS int) AS [Skatt Belopp], \n",
    "    [Procentandel Skatt] = CAST(ROUND([Skatt] * 100.0 / SUM([TotaltBelopp]) OVER (PARTITION BY [OrderDate]), 2) AS decimal(5, 2)),\n",
    "    CAST(ROUND([Frakt], 0) AS int) AS [Frakt],\n",
    "    [Procentandel Frakt] = CAST(ROUND([Frakt] * 100.0 / SUM([TotaltBelopp]) OVER (PARTITION BY [OrderDate]), 2) AS decimal(5, 2)),\n",
    "    CAST(ROUND([TotaltBelopp], 0) AS int) AS [Totalt Belopp]\n",
    "FROM \n",
    "    [CTE_ÅrTotal] \n",
    "ORDER BY \n",
    "    [OrderDate] ASC;\n",
    "            \n",
    "            \"\"\" , con=connection)"
   ]
  },
  {
   "cell_type": "code",
   "execution_count": null,
   "id": "f193c833",
   "metadata": {
    "scrolled": true
   },
   "outputs": [],
   "source": [
    "display(df)"
   ]
  },
  {
   "cell_type": "code",
   "execution_count": null,
   "id": "da74959f",
   "metadata": {
    "scrolled": true
   },
   "outputs": [],
   "source": [
    "# -- xxxxx -- Plottning av årlig Försäljningssammanfattning\n",
    "\n",
    "df['År'] = df['År'].astype(str)\n",
    "\n",
    "fig, (ax1, ax2, ax3) = plt.subplots(nrows=1, ncols=3, figsize=(12, 4))\n",
    "\n",
    "ax1.bar(df['År'], df['Del Summa'], width=0.6, color='dodgerblue', edgecolor='red', linewidth=2)\n",
    "ax1.set_title('Del Summa')\n",
    "ax1.set_xlabel('År')\n",
    "ax1.set_ylabel('Del Summa (10 x Million $)')\n",
    "\n",
    "ax2.bar(df['År'], df['Frakt'], width=0.6, color='gold', edgecolor='blue', linewidth=2)\n",
    "ax2.set_title('Frakt')\n",
    "ax2.set_xlabel('År')\n",
    "ax2.set_ylabel('Frakt (10 x Million $)')\n",
    "\n",
    "ax3.bar(df['År'], df['Skatt Belopp'], width=0.6, color='red', edgecolor='green', linewidth=2)\n",
    "ax3.set_title('Skatt Belopp')\n",
    "ax3.set_xlabel('År')\n",
    "ax3.set_ylabel('Skatt Belopp (10 x Million $)')\n",
    "\n",
    "plt.tight_layout()\n",
    "plt.show()"
   ]
  },
  {
   "cell_type": "code",
   "execution_count": null,
   "id": "8034c1ac",
   "metadata": {},
   "outputs": [],
   "source": [
    "# -- xxxxx -- Plottning av totalt antal beställninga\n",
    "\n",
    "df['År'] = df['År'].astype(str)\n",
    "\n",
    "plt.figure(figsize=(4, 2))\n",
    "\n",
    "plt.bar (df['År'], df['Antal Beställningar'], width=0.6, color='grey', edgecolor='orange', linewidth=2)\n",
    "plt.title('Totalt antal beställningar per år')\n",
    "plt.xlabel('År')\n",
    "plt.ylabel('Totalt Antal Beställningar')\n",
    "\n",
    "plt.show()"
   ]
  },
  {
   "cell_type": "code",
   "execution_count": null,
   "id": "51af3345",
   "metadata": {},
   "outputs": [],
   "source": [
    "# -- 03000 -- Försäljning per kvartal\n",
    "\n",
    "df = pd.read_sql(sql= \"\"\"\n",
    "\n",
    "WITH [CTE_ÅrTotal] AS \n",
    "\t(\n",
    "    SELECT \n",
    "        YEAR([OrderDate]) AS [OrderDate], \n",
    "        DATEPART(QUARTER, [OrderDate]) AS [Quarter],\n",
    "        COUNT([SalesOrderID]) AS [TotaltAntalBeställningar],\n",
    "        SUM([SubTotal]) AS [DelSumma],\n",
    "        SUM([TaxAmt]) AS [Skatt],\n",
    "        SUM([Freight]) AS [Frakt],\n",
    "        SUM([TotalDue]) AS [TotaltBelopp]\n",
    "    FROM \n",
    "\t\t[AdventureWorks2022].[Sales].[SalesOrderHeader]\n",
    "    GROUP BY \n",
    "\t\tYEAR([OrderDate]), DATEPART(QUARTER, [OrderDate])\n",
    "\t)\n",
    "\n",
    "SELECT \n",
    "    [OrderDate] AS [År], \n",
    "    [Quarter] AS [Kvartal],\n",
    "    [TotaltAntalBeställningar] AS [Antal Beställningar],\n",
    "\n",
    "    CAST(ROUND([DelSumma], 0) AS int) AS [Del Summa], \n",
    "    [Procentandel DelSumma] = CAST(ROUND([DelSumma] * 100.0 / SUM([TotaltBelopp]) OVER (PARTITION BY [OrderDate], [Quarter]), 2) AS decimal(5, 2)),\n",
    "\n",
    "    CAST(ROUND([Skatt], 0) AS int) AS [Skatt Belopp], \n",
    "    [Procentandel Skatt] = CAST(ROUND([Skatt] * 100.0 / SUM([TotaltBelopp]) OVER (PARTITION BY [OrderDate], [Quarter]), 2) AS decimal(5, 2)),\n",
    "\n",
    "    CAST(ROUND([Frakt], 0) AS int) AS [Frakt],\n",
    "    [Procentandel Frakt] = CAST(ROUND([Frakt] * 100.0 / SUM([TotaltBelopp]) OVER (PARTITION BY [OrderDate], [Quarter]), 2) AS decimal(5, 2)),\n",
    "\n",
    "    CAST(ROUND([TotaltBelopp], 0) AS int) AS [Totalt Belopp]\n",
    "FROM \n",
    "    [CTE_ÅrTotal] \n",
    "ORDER BY \n",
    "    [OrderDate], [Quarter] ASC;\n",
    "            \n",
    "            \"\"\" , con=connection)"
   ]
  },
  {
   "cell_type": "code",
   "execution_count": null,
   "id": "08a3123e",
   "metadata": {},
   "outputs": [],
   "source": [
    "display(df)"
   ]
  },
  {
   "cell_type": "code",
   "execution_count": null,
   "id": "8985723e",
   "metadata": {},
   "outputs": [],
   "source": [
    "# -- 04000 -- Försäljning per månad \n",
    "\n",
    "df = pd.read_sql(sql= \"\"\"\n",
    "\n",
    "WITH [CTE_OrderTotalMonth] AS \n",
    "\t(\n",
    "    SELECT \n",
    "        YEAR([OrderDate]) AS [År],\n",
    "\t\tMONTH([OrderDate]) AS [Månad],\n",
    "\t\tCOUNT(SalesOrderID) AS [Antal beställningar],\n",
    "        SUM([TotalDue]) AS [Totalt belopp]\n",
    "    FROM \n",
    "\t\t[AdventureWorks2022].[Sales].[SalesOrderHeader]\n",
    "    GROUP BY \n",
    "\t\tYEAR([OrderDate]), MONTH([OrderDate])\n",
    "\t)\n",
    "\n",
    "SELECT \n",
    "    [År], \n",
    "\t[Månad],\n",
    "\t[Antal beställningar],\n",
    "    CAST([Totalt belopp] AS int) AS [Totalt belopp]\n",
    "FROM \n",
    "\t[CTE_OrderTotalMonth]\n",
    "ORDER BY\n",
    "\t[År] ASC, [Månad] ASC;\n",
    "            \n",
    "            \"\"\" , con=connection)"
   ]
  },
  {
   "cell_type": "code",
   "execution_count": null,
   "id": "a0939a3c",
   "metadata": {},
   "outputs": [],
   "source": [
    "display(df)"
   ]
  },
  {
   "cell_type": "code",
   "execution_count": null,
   "id": "603f8bec",
   "metadata": {},
   "outputs": [],
   "source": [
    "# -- 05000 -- Månatlig MAX och MIN Totalt belopp\n",
    "\n",
    "df = pd.read_sql(sql= \"\"\"\n",
    "\n",
    "WITH [CTE_MinMaxOrder] AS \n",
    "\t(\n",
    "    SELECT \n",
    "        YEAR([OrderDate]) AS [År],\n",
    "\t\tMONTH([OrderDate]) AS [Månad],\n",
    "\t\tCOUNT(SalesOrderID) AS [Antal ordrar],\n",
    "        SUM([TotalDue]) AS [Totalt belopp]\n",
    "    FROM \n",
    "\t\t[AdventureWorks2022].[Sales].[SalesOrderHeader]\n",
    "    GROUP BY \n",
    "\t\tYEAR([OrderDate]), MONTH([OrderDate])\n",
    "\t)\n",
    "\n",
    "SELECT \n",
    "\t[År], \n",
    "\t[Månad], \n",
    "\t[Antal ordrar], \n",
    "\tCAST([Totalt belopp] AS INT) AS [Max/Min Totalt belopp]\n",
    "FROM \n",
    "\t[CTE_MinMaxOrder] \n",
    "WHERE \n",
    "\t[Totalt belopp] = (SELECT MAX([Totalt belopp]) FROM [CTE_MinMaxOrder]) \n",
    "\tOR \n",
    "\t[Totalt belopp] = (SELECT MIN([Totalt belopp]) FROM [CTE_MinMaxOrder])\n",
    "ORDER BY\n",
    "\t[Totalt belopp] DESC;\n",
    "    \n",
    "            \"\"\" , con=connection)"
   ]
  },
  {
   "cell_type": "code",
   "execution_count": null,
   "id": "9e3fe8a8",
   "metadata": {
    "scrolled": true
   },
   "outputs": [],
   "source": [
    "display(df)"
   ]
  },
  {
   "cell_type": "code",
   "execution_count": null,
   "id": "2c17b028",
   "metadata": {},
   "outputs": [],
   "source": [
    "# -- 06000 -- Medelvärdert för beställningar och totalt belopp, månadsvis\n",
    "\n",
    "df = pd.read_sql(sql= \"\"\"\n",
    "\n",
    "SELECT \n",
    "    YEAR([OrderDate]) AS [År],\n",
    "\tMONTH([OrderDate]) AS [Månad],\n",
    "\tCOUNT(SalesOrderID) AS [Antal beställningar],\n",
    "    CAST(SUM([TotalDue]) AS INT) AS [Totalt belopp],\n",
    "\tCAST(AVG([TotalDue]) AS INT) AS [Medelvärde]\n",
    "FROM \n",
    "\t[AdventureWorks2022].[Sales].[SalesOrderHeader]\n",
    "GROUP BY \n",
    "\tYEAR([OrderDate]), MONTH([OrderDate])\n",
    "ORDER BY \n",
    "\t[Medelvärde]\n",
    "        \n",
    "            \"\"\" , con=connection)"
   ]
  },
  {
   "cell_type": "code",
   "execution_count": null,
   "id": "58ce2a35",
   "metadata": {},
   "outputs": [],
   "source": [
    "display(df)"
   ]
  },
  {
   "cell_type": "code",
   "execution_count": null,
   "id": "7323d379",
   "metadata": {},
   "outputs": [],
   "source": [
    "# -- 06110 -- Medelvärdet för alla försäljningsordrar i företaget \n",
    "\n",
    "df = pd.read_sql(sql= \"\"\"\n",
    "\n",
    "SELECT CAST(AVG([TotalDue]) AS INT) AS [Totalt Medelvärde]\n",
    "FROM [AdventureWorks2022].[Sales].[SalesOrderHeader];\n",
    "        \n",
    "            \"\"\" , con=connection)"
   ]
  },
  {
   "cell_type": "code",
   "execution_count": null,
   "id": "08608440",
   "metadata": {
    "scrolled": true
   },
   "outputs": [],
   "source": [
    "display(df)"
   ]
  },
  {
   "cell_type": "code",
   "execution_count": null,
   "id": "15843b48",
   "metadata": {},
   "outputs": [],
   "source": [
    "# -- 07000 -- Kvartalsvis fördelning av online beställningar och beställningar av säljare\n",
    "\n",
    "df = pd.read_sql(sql= \"\"\"\n",
    "\n",
    "WITH [CTE_OnlineOrderSP] AS\n",
    "    (\n",
    "\tSELECT \n",
    "\t\tYEAR([OrderDate]) AS [År],\n",
    "\t\tDATEPART(QUARTER, [OrderDate]) AS [Kvartal],\n",
    "\t\tSUM(CASE WHEN [OnlineOrderFlag] = 1 THEN 1 ELSE 0 END) AS [OnlineBeställningar],\n",
    "\t\tSUM(CASE WHEN [OnlineOrderFlag] = 0 THEN 1 ELSE 0 END) AS [Beställningar Av Säljare],\n",
    "\t\tCOUNT(*) AS [Nämnare]\n",
    "\tFROM \n",
    "\t\t[AdventureWorks2022].[Sales].[SalesOrderHeader]\n",
    "\tGROUP BY \n",
    "\t\tYEAR([OrderDate]), DATEPART(QUARTER, [OrderDate])\n",
    "    )\n",
    "\n",
    "SELECT \n",
    "\t[År],\n",
    "\t[Kvartal],\n",
    "\t[OnlineBeställningar] AS [Online Beställningar],\n",
    "\t[Beställningar Av Säljare] AS [Beställningar Av Säljare],\n",
    "\tCAST(100.0 * [OnlineBeställningar] / [Nämnare] AS decimal(3, 1)) AS [Andel: Online Beställning],\n",
    "\tCAST(100.0 * [Beställningar Av Säljare] / [Nämnare] AS decimal(3, 1)) AS [Andel: Beställningar av Säljare]\n",
    "FROM\n",
    "\t[CTE_OnlineOrderSP]\n",
    "ORDER BY \n",
    "\t[År], [Kvartal];\n",
    "\n",
    "            \"\"\" , con=connection)"
   ]
  },
  {
   "cell_type": "code",
   "execution_count": null,
   "id": "f92b5f3a",
   "metadata": {},
   "outputs": [],
   "source": [
    "display(df)"
   ]
  },
  {
   "cell_type": "code",
   "execution_count": null,
   "id": "5108db41",
   "metadata": {},
   "outputs": [],
   "source": [
    "# Plottning av online beställningar och beställningar av säljare, kvartalvis\n",
    "\n",
    "ax = df[['Kvartal', 'Online Beställningar', 'Beställningar Av Säljare']].plot(kind='bar', figsize=(7, 3), width=0.8)\n",
    "\n",
    "ax.set_xlabel('Kvartal')\n",
    "ax.set_ylabel('Antal Beställningar')\n",
    "ax.set_title('Jämförelse av Onlinebeställningar och Beställningar av Säljare över Åren')\n",
    "ax.legend([\"Online Beställningar\", \"Beställningar Av Säljare\"], loc='upper left')\n",
    "ax.set_xticklabels(df['Kvartal'], rotation=0)\n",
    "plt.show()\n",
    "\n"
   ]
  },
  {
   "cell_type": "code",
   "execution_count": null,
   "id": "fc5a15d8",
   "metadata": {},
   "outputs": [],
   "source": [
    "# -- 08000 -- Försäljningsstatistik per Kvartal - Medelvärde och Standardavvikelse\n",
    "\n",
    "df = pd.read_sql(sql= \"\"\"\n",
    "\n",
    "SELECT \n",
    "\tYEAR([OrderDate]) AS [År], \n",
    "\tDATEPART(QUARTER, [OrderDate]) AS [Kvartal],\n",
    "\tCAST(AVG([TotalDue]) AS int) AS [Genomsnitt Totalt belopp)],\n",
    "\tCAST(STDEV([TotalDue]) AS int) AS [Standardavvikelse Totalt belopp]\n",
    "FROM \n",
    "\t[AdventureWorks2022].[Sales].[SalesOrderHeader] \n",
    "GROUP BY  \n",
    "\tYEAR([OrderDate]), DATEPART(QUARTER, [OrderDate])\n",
    "ORDER BY \n",
    "\t[År], [Kvartal];\n",
    "\n",
    "            \"\"\" , con=connection)"
   ]
  },
  {
   "cell_type": "code",
   "execution_count": null,
   "id": "ee6445a7",
   "metadata": {},
   "outputs": [],
   "source": [
    "display(df)"
   ]
  },
  {
   "cell_type": "code",
   "execution_count": null,
   "id": "9820f8c0",
   "metadata": {},
   "outputs": [],
   "source": [
    "# -- 09000 -- Median (50:e percentilen) av totalt belopp\n",
    "\n",
    "df = pd.read_sql(sql= \"\"\"\n",
    "\n",
    "SELECT  DISTINCT\n",
    "\t\tPERCENTILE_CONT(0.5) \n",
    "\t\tWITHIN GROUP (ORDER BY [TotalDue]) \n",
    "\t\tOVER (PARTITION BY YEAR([OrderDate]), DATEPART(QUARTER, [OrderDate]))\n",
    "\t\tAS [Median Totalt belopp], \n",
    "\t\tYEAR([OrderDate]) AS [År], \n",
    "\t\tDATEPART(QUARTER, [OrderDate]) AS [Kvartal]\n",
    "FROM \n",
    "\t\t[AdventureWorks2022].[Sales].[SalesOrderHeader]\n",
    "ORDER BY \n",
    "\t\t[År], [Kvartal];\n",
    "\n",
    "            \"\"\" , con=connection)"
   ]
  },
  {
   "cell_type": "code",
   "execution_count": null,
   "id": "4f06b221",
   "metadata": {},
   "outputs": [],
   "source": [
    "display(df)"
   ]
  },
  {
   "cell_type": "code",
   "execution_count": null,
   "id": "938ac874",
   "metadata": {},
   "outputs": [],
   "source": [
    "# -- 01110 -- Antal beställningar och det totala försäljningsbeloppet per land för varje säljare\n",
    "\n",
    "df=pd.read_sql(sql='''\n",
    "\n",
    "SELECT \n",
    "\tA.[SalesPersonID], \n",
    "\tC.[FirstName], \n",
    "\tC.[LastName], \n",
    "\tD.[CountryRegionCode] AS [Land], \n",
    "\tCOUNT(A.[SalesPersonID]) AS [Antal Beställningar], \n",
    "\tCAST(SUM(A.TotalDue) AS int) AS [Total Försäljning]\n",
    "FROM \n",
    "\t[AdventureWorks2022].[Sales].[SalesOrderHeader] AS A\n",
    "\tINNER JOIN [AdventureWorks2022].[Sales].[SalesPerson] AS B\n",
    "\tON A.[SalesPersonID] = B.[BusinessEntityID]\n",
    "\tINNER JOIN [AdventureWorks2022].[Person].[Person] AS C\n",
    "\tON B.[BusinessEntityID] = C.[BusinessEntityID]\n",
    "\tLEFT JOIN [AdventureWorks2022].[Sales].[SalesTerritory] AS D\n",
    "\tON B.[TerritoryID] = D.[TerritoryID]\n",
    "GROUP BY \n",
    "\tA.[SalesPersonID], C.[FirstName], C.[LastName], D.[CountryRegionCode]\n",
    "HAVING \n",
    "\tA.[SalesPersonID] IS NOT NULL\n",
    "ORDER BY \n",
    "\t[Total Försäljning];\n",
    "    \n",
    "    ''', con=connection)"
   ]
  },
  {
   "cell_type": "code",
   "execution_count": null,
   "id": "997a054c",
   "metadata": {},
   "outputs": [],
   "source": [
    "display(df)"
   ]
  },
  {
   "cell_type": "code",
   "execution_count": null,
   "id": "b833e3f6",
   "metadata": {},
   "outputs": [],
   "source": [
    "# -- 01120 -- Statistisk analys (konfidensintervall), Totalt\n",
    "\n",
    "df=pd.read_sql(sql='''\n",
    "\n",
    "WITH [CTE_konfidensintervall] AS \n",
    "\t(\n",
    "    SELECT \n",
    "        COUNT([TotalDue]) AS [n],\n",
    "        CAST(AVG([TotalDue]) AS int) AS [Medelvärde],\n",
    "        CAST(STDEV([TotalDue]) AS int) AS [Standardavvikelse]\n",
    "    FROM \n",
    "        [AdventureWorks2022].[Sales].[SalesOrderHeader]\n",
    "\t) \n",
    "\n",
    "SELECT \n",
    "\t[Medelvärde], \n",
    "\t[Standardavvikelse],\n",
    "\tCAST(([Medelvärde]) - (1.96 * [Standardavvikelse] / SQRT(n)) AS INT) AS [KI_Nedre],\n",
    "    CAST(([Medelvärde]) + (1.96 * [Standardavvikelse] / SQRT(n)) AS INT) AS [KI_Övre]\n",
    "FROM \n",
    "\t[CTE_konfidensintervall];\n",
    "        \n",
    "    ''', con=connection)"
   ]
  },
  {
   "cell_type": "code",
   "execution_count": null,
   "id": "47c6226b",
   "metadata": {
    "scrolled": true
   },
   "outputs": [],
   "source": [
    "display(df)"
   ]
  },
  {
   "cell_type": "code",
   "execution_count": null,
   "id": "b90506f5",
   "metadata": {},
   "outputs": [],
   "source": [
    "# -- 01121 -- Statistisk analys (Median), Totalt\n",
    "\n",
    "df=pd.read_sql(sql='''\n",
    "\n",
    "WITH [CTE_Median] AS \n",
    "\t(\n",
    "    SELECT TOP 50 PERCENT CAST([TotalDue] AS INT) AS [Median]\n",
    "    FROM [AdventureWorks2022].[Sales].[SalesOrderHeader]\n",
    "    ORDER BY [TotalDue] ASC\n",
    "\t)\n",
    "SELECT TOP 1 [Median]\n",
    "FROM CTE_Median ORDER BY [Median] DESC;\n",
    "        \n",
    "    ''', con=connection)"
   ]
  },
  {
   "cell_type": "code",
   "execution_count": null,
   "id": "db391717",
   "metadata": {},
   "outputs": [],
   "source": [
    "display(df)"
   ]
  },
  {
   "cell_type": "code",
   "execution_count": null,
   "id": "a3be30c9",
   "metadata": {},
   "outputs": [],
   "source": [
    "# -- 01122 -- Statistisk analys (konfidensintervall), Månadsvist\n",
    "\n",
    "df=pd.read_sql(sql='''\n",
    "\n",
    "SELECT \n",
    "    YEAR([OrderDate]) AS [År], \n",
    "\tMONTH([OrderDate]) AS [Månad], \n",
    "\tCOUNT([SalesOrderID]) AS [Antal beställningar],\n",
    "    CAST(AVG([TotalDue]) AS INT) AS [Medelvärde Totalt belopp],\n",
    "    CAST(STDEV([TotalDue]) AS INT) AS [Standardavvikelse Totalt belopp],\n",
    "    CAST((AVG([TotalDue]) - 1.96 * STDEV([TotalDue]) / SQRT(COUNT([TotalDue]))) AS INT) AS [KI_Nedre],\n",
    "    CAST((AVG([TotalDue]) + 1.96 * STDEV([TotalDue]) / SQRT(COUNT([TotalDue]))) AS INT) AS [KI_Övre]\n",
    "FROM \n",
    "    [AdventureWorks2022].[Sales].[SalesOrderHeader] \n",
    "GROUP BY  \n",
    "    YEAR([OrderDate]), MONTH([OrderDate])\n",
    "ORDER BY \n",
    "    [År], [Månad];\n",
    "    \n",
    "    ''', con=connection)"
   ]
  },
  {
   "cell_type": "code",
   "execution_count": null,
   "id": "4c7b3f8b",
   "metadata": {},
   "outputs": [],
   "source": [
    "display(df)"
   ]
  },
  {
   "cell_type": "code",
   "execution_count": null,
   "id": "8ad91337",
   "metadata": {
    "scrolled": false
   },
   "outputs": [],
   "source": [
    "# -- 01133 -- En funktion för att beräkna konfidensintervall för skillnaden mellan \n",
    "# medelvärden för två angivna år i tabellen: [AdventureWorks2022].[Sales].[SalesOrderHeader].\n",
    "\n",
    "connection.execute( '''\n",
    "\n",
    "CREATE FUNCTION dbo.SkillnadMedelvärde (@År1 INT, @År2 INT) \n",
    "RETURNS @SkillnadsIntervall TABLE (SkillnadÖvre INT, SkillnadNedre INT)\n",
    "AS\n",
    "BEGIN\n",
    "    DECLARE @SkillnadÖvre INT;\n",
    "    DECLARE @SkillnadNedre INT;\n",
    "\n",
    "    SELECT @SkillnadÖvre = \n",
    "        ( -- (Medelvärde1 - Medelvärde2) +  z. sqrt [(standardavvickelse1)^2/n1 + (standardavvickelse2)^2/n2]\n",
    "            ( -- Medelvärde1 - Medelvärde2\n",
    "                CAST(AVG(CASE WHEN YEAR([OrderDate]) = @År1 THEN [TotalDue] END) AS INT)\n",
    "                -\n",
    "                CAST(AVG(CASE WHEN YEAR([OrderDate]) = @År2 THEN [TotalDue] END) AS INT)\n",
    "            )\n",
    "            +\n",
    "            ( -- Z (1.96 för konfidensgrad 95 procent\n",
    "                1.96\n",
    "                *\n",
    "                SQRT\n",
    "                    (\n",
    "                        ( -- (standardavvickelse1)^2/n1\n",
    "                            POWER(STDEV(CASE WHEN YEAR([OrderDate]) = @År1 THEN [TotalDue] END), 2)\n",
    "                            / NULLIF(COUNT(CASE WHEN YEAR([OrderDate]) = @År1 THEN [SalesOrderID] END), 0)\n",
    "                        )\n",
    "                        +\n",
    "                        ( -- (standardavvickelse2)^2/n2\n",
    "                            POWER(STDEV(CASE WHEN YEAR([OrderDate]) = @År2 THEN [TotalDue] END), 2)\n",
    "                            / NULLIF(COUNT(CASE WHEN YEAR([OrderDate]) = @År2 THEN [SalesOrderID] END), 0)\n",
    "                        )\n",
    "                    )\n",
    "            )\n",
    "        )\n",
    "    FROM [AdventureWorks2022].[Sales].[SalesOrderHeader]\n",
    "    WHERE YEAR([OrderDate]) IN (@År1, @År2);\n",
    "\n",
    "   \n",
    "    SELECT @SkillnadNedre = \n",
    "        ( -- (Medelvärde1 - Medelvärde2) -  z. sqrt [(standardavvickelse1)^2/n1 + (standardavvickelse2)^2/n2]\n",
    "            ( -- Medelvärde1 - Medelvärde2\n",
    "                CAST(AVG(CASE WHEN YEAR([OrderDate]) = @År1 THEN [TotalDue] END) AS INT)\n",
    "                -\n",
    "                CAST(AVG(CASE WHEN YEAR([OrderDate]) = @År2 THEN [TotalDue] END) AS INT)\n",
    "            )\n",
    "            -\n",
    "            ( -- Z (1.96 för konfidensgrad 95 procent\n",
    "                1.96\n",
    "                *\n",
    "                SQRT\n",
    "                    (\n",
    "                        ( -- (standardavvickelse1)^2/n1\n",
    "                            POWER(STDEV(CASE WHEN YEAR([OrderDate]) = @År1 THEN [TotalDue] END), 2)\n",
    "                            / NULLIF(COUNT(CASE WHEN YEAR([OrderDate]) = @År1 THEN [SalesOrderID] END), 0)\n",
    "                        )\n",
    "                        +\n",
    "                        ( -- (standardavvickelse2)^2/n2\n",
    "                            POWER(STDEV(CASE WHEN YEAR([OrderDate]) = @År2 THEN [TotalDue] END), 2)\n",
    "                            / NULLIF(COUNT(CASE WHEN YEAR([OrderDate]) = @År2 THEN [SalesOrderID] END), 0)\n",
    "                        )\n",
    "                    )\n",
    "            )\n",
    "        )\n",
    "    FROM [AdventureWorks2022].[Sales].[SalesOrderHeader]\n",
    "    WHERE YEAR([OrderDate]) IN (@År1, @År2);\n",
    "\n",
    "\tINSERT INTO @SkillnadsIntervall (SkillnadÖvre, SkillnadNedre) VALUES (@SkillnadÖvre, @SkillnadNedre)\n",
    "\n",
    "    RETURN;\n",
    "END;\n",
    "\n",
    "    ''')"
   ]
  },
  {
   "cell_type": "code",
   "execution_count": null,
   "id": "cc09533a",
   "metadata": {},
   "outputs": [],
   "source": [
    "df=pd.read_sql(sql='''\n",
    "SELECT SkillnadÖvre, SkillnadNedre\n",
    "FROM dbo.SkillnadMedelvärde(2012, 2013);\n",
    "''', con=connection)"
   ]
  },
  {
   "cell_type": "code",
   "execution_count": null,
   "id": "7275ec6d",
   "metadata": {},
   "outputs": [],
   "source": [
    "display(df)"
   ]
  },
  {
   "cell_type": "code",
   "execution_count": null,
   "id": "60ec04f5",
   "metadata": {},
   "outputs": [],
   "source": []
  }
 ],
 "metadata": {
  "kernelspec": {
   "display_name": "Python 3 (ipykernel)",
   "language": "python",
   "name": "python3"
  },
  "language_info": {
   "codemirror_mode": {
    "name": "ipython",
    "version": 3
   },
   "file_extension": ".py",
   "mimetype": "text/x-python",
   "name": "python",
   "nbconvert_exporter": "python",
   "pygments_lexer": "ipython3",
   "version": "3.11.5"
  }
 },
 "nbformat": 4,
 "nbformat_minor": 5
}
